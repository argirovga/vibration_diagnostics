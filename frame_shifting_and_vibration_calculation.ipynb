{
 "cells": [
  {
   "cell_type": "markdown",
   "source": [
    "# Algorithm for vibration calculation (made by Roman Bokhyan)\n",
    "In this part I will propose an algorithm that realizes the calculation of vibrations of an object from a video recorded on a special high-speed camera (which allows you to shoot up to several thousand FPS). The algorithm will be implemented in Python using the following libraries."
   ],
   "metadata": {
    "collapsed": false
   }
  },
  {
   "cell_type": "code",
   "execution_count": 1,
   "outputs": [],
   "source": [
    "import numpy as np\n",
    "from scipy.fft import fft2, ifft2, fftshift\n",
    "import cv2\n",
    "import os\n",
    "from concurrent.futures import ThreadPoolExecutor"
   ],
   "metadata": {
    "collapsed": false,
    "ExecuteTime": {
     "end_time": "2024-05-16T22:35:27.758878300Z",
     "start_time": "2024-05-16T22:35:27.557484700Z"
    }
   }
  },
  {
   "cell_type": "markdown",
   "source": [
    "## Part 1. Preparing the data\n",
    "My colleague has prepared special noise-cleared footage of the subject and I will use it for work."
   ],
   "metadata": {
    "collapsed": false
   }
  },
  {
   "cell_type": "code",
   "execution_count": null,
   "outputs": [],
   "source": [
    "frames_directory = \"preped_data/filtered_event_frames\"\n",
    "video_path = \"raw_data/high_speed_cam_videos/MotorAmplif_motion_evm_2022-12-23-10-50-19.mp4\""
   ],
   "metadata": {
    "collapsed": false
   }
  }
 ],
 "metadata": {
  "kernelspec": {
   "display_name": "Python 3",
   "language": "python",
   "name": "python3"
  },
  "language_info": {
   "codemirror_mode": {
    "name": "ipython",
    "version": 2
   },
   "file_extension": ".py",
   "mimetype": "text/x-python",
   "name": "python",
   "nbconvert_exporter": "python",
   "pygments_lexer": "ipython2",
   "version": "2.7.6"
  }
 },
 "nbformat": 4,
 "nbformat_minor": 0
}
